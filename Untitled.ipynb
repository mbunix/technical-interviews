{
 "cells": [
  {
   "cell_type": "code",
   "execution_count": 20,
   "id": "d7a3f600-dc5c-4162-abae-cbb77857d038",
   "metadata": {},
   "outputs": [
    {
     "data": {
      "text/html": [
       "<div>\n",
       "<style scoped>\n",
       "    .dataframe tbody tr th:only-of-type {\n",
       "        vertical-align: middle;\n",
       "    }\n",
       "\n",
       "    .dataframe tbody tr th {\n",
       "        vertical-align: top;\n",
       "    }\n",
       "\n",
       "    .dataframe thead th {\n",
       "        text-align: right;\n",
       "    }\n",
       "</style>\n",
       "<table border=\"1\" class=\"dataframe\">\n",
       "  <thead>\n",
       "    <tr style=\"text-align: right;\">\n",
       "      <th></th>\n",
       "      <th>VisitCode</th>\n",
       "      <th>Diagnosis</th>\n",
       "      <th>PatientCode</th>\n",
       "      <th>VisitDateTime</th>\n",
       "      <th>MedicalCenter</th>\n",
       "      <th>VisitCategory</th>\n",
       "      <th>Payor</th>\n",
       "      <th>NPS Score</th>\n",
       "      <th>Amount</th>\n",
       "    </tr>\n",
       "  </thead>\n",
       "  <tbody>\n",
       "    <tr>\n",
       "      <th>0</th>\n",
       "      <td>XA-1120632</td>\n",
       "      <td>review</td>\n",
       "      <td>ae928861-7de6</td>\n",
       "      <td>5/17/2022 20:37</td>\n",
       "      <td>Tassia</td>\n",
       "      <td>In-person Visit</td>\n",
       "      <td>Cash</td>\n",
       "      <td>NaN</td>\n",
       "      <td>300.0</td>\n",
       "    </tr>\n",
       "    <tr>\n",
       "      <th>1</th>\n",
       "      <td>XA-1162300</td>\n",
       "      <td>review</td>\n",
       "      <td>14bec35e-c33c</td>\n",
       "      <td>6/26/2022 18:16</td>\n",
       "      <td>Tassia</td>\n",
       "      <td>In-person Visit</td>\n",
       "      <td>Cash</td>\n",
       "      <td>NaN</td>\n",
       "      <td>300.0</td>\n",
       "    </tr>\n",
       "    <tr>\n",
       "      <th>2</th>\n",
       "      <td>XA-1134923</td>\n",
       "      <td>review</td>\n",
       "      <td>ee6906f4-9c4d</td>\n",
       "      <td>6/1/2022 19:16</td>\n",
       "      <td>Tassia</td>\n",
       "      <td>In-person Visit</td>\n",
       "      <td>Cash</td>\n",
       "      <td>NaN</td>\n",
       "      <td>300.0</td>\n",
       "    </tr>\n",
       "    <tr>\n",
       "      <th>3</th>\n",
       "      <td>XA-1155314</td>\n",
       "      <td>review</td>\n",
       "      <td>4541376c-a6f1</td>\n",
       "      <td>6/19/2022 18:52</td>\n",
       "      <td>Tassia</td>\n",
       "      <td>In-person Visit</td>\n",
       "      <td>Cash</td>\n",
       "      <td>NaN</td>\n",
       "      <td>300.0</td>\n",
       "    </tr>\n",
       "    <tr>\n",
       "      <th>4</th>\n",
       "      <td>XA-1247830</td>\n",
       "      <td>review</td>\n",
       "      <td>0b90db6f-6f31</td>\n",
       "      <td>10/8/2022 9:14</td>\n",
       "      <td>Tassia</td>\n",
       "      <td>In-person Visit</td>\n",
       "      <td>Cash</td>\n",
       "      <td>NaN</td>\n",
       "      <td>300.0</td>\n",
       "    </tr>\n",
       "    <tr>\n",
       "      <th>...</th>\n",
       "      <td>...</td>\n",
       "      <td>...</td>\n",
       "      <td>...</td>\n",
       "      <td>...</td>\n",
       "      <td>...</td>\n",
       "      <td>...</td>\n",
       "      <td>...</td>\n",
       "      <td>...</td>\n",
       "      <td>...</td>\n",
       "    </tr>\n",
       "    <tr>\n",
       "      <th>22115</th>\n",
       "      <td>XA-1121886</td>\n",
       "      <td>acute rhinitis</td>\n",
       "      <td>9539ef65-40d5</td>\n",
       "      <td>5/19/2022 11:47</td>\n",
       "      <td>Call Centre</td>\n",
       "      <td>Telemedicine Visit</td>\n",
       "      <td>Cash</td>\n",
       "      <td>9.0</td>\n",
       "      <td>1035.0</td>\n",
       "    </tr>\n",
       "    <tr>\n",
       "      <th>22116</th>\n",
       "      <td>XA-1163085</td>\n",
       "      <td>acute nasopharyngitis</td>\n",
       "      <td>e9a34ccc-c419</td>\n",
       "      <td>6/27/2022 14:32</td>\n",
       "      <td>Call Centre</td>\n",
       "      <td>Telemedicine Visit</td>\n",
       "      <td>Cash</td>\n",
       "      <td>9.0</td>\n",
       "      <td>495.0</td>\n",
       "    </tr>\n",
       "    <tr>\n",
       "      <th>22117</th>\n",
       "      <td>XA-1111566</td>\n",
       "      <td>acute pharyngitis, viral</td>\n",
       "      <td>6914f1e7-7a51</td>\n",
       "      <td>5/7/2022 21:41</td>\n",
       "      <td>Call Centre</td>\n",
       "      <td>Telemedicine Visit</td>\n",
       "      <td>Cash</td>\n",
       "      <td>7.0</td>\n",
       "      <td>800.0</td>\n",
       "    </tr>\n",
       "    <tr>\n",
       "      <th>22118</th>\n",
       "      <td>XA-1260869</td>\n",
       "      <td>allergic rhinitis</td>\n",
       "      <td>2db56d8c-192c</td>\n",
       "      <td>10/21/2022 20:32</td>\n",
       "      <td>Call Centre</td>\n",
       "      <td>Telemedicine Visit</td>\n",
       "      <td>Insurance Company B</td>\n",
       "      <td>9.0</td>\n",
       "      <td>2838.0</td>\n",
       "    </tr>\n",
       "    <tr>\n",
       "      <th>22119</th>\n",
       "      <td>XA-1198681</td>\n",
       "      <td>acute nasopharyngitis</td>\n",
       "      <td>9310b754-7fe2</td>\n",
       "      <td>8/8/2022 13:07</td>\n",
       "      <td>Call Centre</td>\n",
       "      <td>Telemedicine Visit</td>\n",
       "      <td>Insurance Company B</td>\n",
       "      <td>7.0</td>\n",
       "      <td>3378.0</td>\n",
       "    </tr>\n",
       "  </tbody>\n",
       "</table>\n",
       "<p>22120 rows × 9 columns</p>\n",
       "</div>"
      ],
      "text/plain": [
       "       VisitCode                  Diagnosis    PatientCode     VisitDateTime  \\\n",
       "0      XA-1120632                    review  ae928861-7de6   5/17/2022 20:37   \n",
       "1      XA-1162300                    review  14bec35e-c33c   6/26/2022 18:16   \n",
       "2      XA-1134923                    review  ee6906f4-9c4d    6/1/2022 19:16   \n",
       "3      XA-1155314                    review  4541376c-a6f1   6/19/2022 18:52   \n",
       "4      XA-1247830                    review  0b90db6f-6f31    10/8/2022 9:14   \n",
       "...           ...                       ...            ...               ...   \n",
       "22115  XA-1121886            acute rhinitis  9539ef65-40d5   5/19/2022 11:47   \n",
       "22116  XA-1163085     acute nasopharyngitis  e9a34ccc-c419   6/27/2022 14:32   \n",
       "22117  XA-1111566  acute pharyngitis, viral  6914f1e7-7a51    5/7/2022 21:41   \n",
       "22118  XA-1260869         allergic rhinitis  2db56d8c-192c  10/21/2022 20:32   \n",
       "22119  XA-1198681     acute nasopharyngitis  9310b754-7fe2    8/8/2022 13:07   \n",
       "\n",
       "      MedicalCenter       VisitCategory                Payor  NPS Score  \\\n",
       "0            Tassia     In-person Visit                 Cash        NaN   \n",
       "1            Tassia     In-person Visit                 Cash        NaN   \n",
       "2            Tassia     In-person Visit                 Cash        NaN   \n",
       "3            Tassia     In-person Visit                 Cash        NaN   \n",
       "4            Tassia     In-person Visit                 Cash        NaN   \n",
       "...             ...                 ...                  ...        ...   \n",
       "22115   Call Centre  Telemedicine Visit                 Cash        9.0   \n",
       "22116   Call Centre  Telemedicine Visit                 Cash        9.0   \n",
       "22117   Call Centre  Telemedicine Visit                 Cash        7.0   \n",
       "22118   Call Centre  Telemedicine Visit  Insurance Company B        9.0   \n",
       "22119   Call Centre  Telemedicine Visit  Insurance Company B        7.0   \n",
       "\n",
       "       Amount  \n",
       "0       300.0  \n",
       "1       300.0  \n",
       "2       300.0  \n",
       "3       300.0  \n",
       "4       300.0  \n",
       "...       ...  \n",
       "22115  1035.0  \n",
       "22116   495.0  \n",
       "22117   800.0  \n",
       "22118  2838.0  \n",
       "22119  3378.0  \n",
       "\n",
       "[22120 rows x 9 columns]"
      ]
     },
     "execution_count": 20,
     "metadata": {},
     "output_type": "execute_result"
    }
   ],
   "source": [
    "import pandas as pd\n",
    "data = pd.read_csv('BIassesment.csv')\n",
    "data\n",
    "\n"
   ]
  },
  {
   "cell_type": "code",
   "execution_count": 21,
   "id": "372e68e4-2291-4f3f-8506-c961b16fe5a1",
   "metadata": {},
   "outputs": [
    {
     "name": "stdout",
     "output_type": "stream",
     "text": [
      "Kimathi Street visits: 761\n",
      "Pipeline visits: 3898\n"
     ]
    },
    {
     "name": "stderr",
     "output_type": "stream",
     "text": [
      "C:\\Users\\belli\\AppData\\Local\\Temp\\ipykernel_18832\\2886847217.py:8: SettingWithCopyWarning: \n",
      "A value is trying to be set on a copy of a slice from a DataFrame.\n",
      "Try using .loc[row_indexer,col_indexer] = value instead\n",
      "\n",
      "See the caveats in the documentation: https://pandas.pydata.org/pandas-docs/stable/user_guide/indexing.html#returning-a-view-versus-a-copy\n",
      "  data.loc[:, 'VisitDateTime'] = converted_dates\n"
     ]
    }
   ],
   "source": [
    "\n",
    "# Convert 'VisitDateTime' column to datetime format\n",
    "converted_dates = pd.to_datetime(data['VisitDateTime'], errors='coerce')\n",
    "\n",
    "# Filter out invalid dates\n",
    "data = data[converted_dates.notnull()]\n",
    "\n",
    "# Assign the converted dates back to 'VisitDateTime' column\n",
    "data.loc[:, 'VisitDateTime'] = converted_dates\n",
    "\n",
    "# Define the date range\n",
    "start_date = pd.to_datetime('2022-05-01')\n",
    "end_date = pd.to_datetime('2022-09-30')\n",
    "\n",
    "# Filter the data\n",
    "filtered_data = data[(data['VisitDateTime'] >= start_date) & (data['VisitDateTime'] <= end_date)]\n",
    "\n",
    "# Count the number of visits for each medical center\n",
    "kimathi_street_visits = filtered_data[filtered_data['MedicalCenter'] == 'Kimathi Street'].shape[0]\n",
    "pipeline_visits = filtered_data[filtered_data['MedicalCenter'] == 'Pipeline'].shape[0]\n",
    "\n",
    "# Print the number of visits\n",
    "print(\"Kimathi Street visits:\", kimathi_street_visits)\n",
    "print(\"Pipeline visits:\", pipeline_visits)"
   ]
  },
  {
   "cell_type": "code",
   "execution_count": 23,
   "id": "c23c9537-93c2-4a66-92fb-440e329ea25e",
   "metadata": {},
   "outputs": [
    {
     "name": "stdout",
     "output_type": "stream",
     "text": [
      "The most common diagnosis in 2022 for Tassia and Embakasi branches combined is: acute nasopharyngitis\n"
     ]
    }
   ],
   "source": [
    "\n",
    "\n",
    "# Filter the data for Tassia and Embakasi branches and the year 2022\n",
    "filtered_data = data[(data['MedicalCenter'].isin(['Tassia', 'Embakasi'])) & (data['VisitDateTime'].astype(str).str.contains('2022'))]\n",
    "\n",
    "# Find the most common diagnosis\n",
    "most_common_diagnosis = filtered_data['Diagnosis'].mode().iloc[0]\n",
    "\n",
    "print(\"The most common diagnosis in 2022 for Tassia and Embakasi branches combined is:\", most_common_diagnosis)\n"
   ]
  },
  {
   "cell_type": "code",
   "execution_count": 42,
   "id": "b275d101-7bed-4496-ad78-d6e99921b388",
   "metadata": {},
   "outputs": [
    {
     "name": "stdout",
     "output_type": "stream",
     "text": [
      "object\n"
     ]
    }
   ],
   "source": [
    "print(filtered_data['Diagnosis'].dtypes)\n"
   ]
  },
  {
   "cell_type": "code",
   "execution_count": 27,
   "id": "ba463405-5bda-42da-a890-de36feb70ca3",
   "metadata": {},
   "outputs": [
    {
     "name": "stdout",
     "output_type": "stream",
     "text": [
      "The most profitable payor for Penda Health in 2022 is: Insurance Company B\n"
     ]
    }
   ],
   "source": [
    "\n",
    "\n",
    "data['Profitability'] = data['Amount'] * 0.3\n",
    "\n",
    "# Convert 'VisitDateTime' column to datetime type\n",
    "data['VisitDateTime'] = pd.to_datetime(data['VisitDateTime'])\n",
    "\n",
    "# Filter the data for the year 2022\n",
    "data_2022 = data[data['VisitDateTime'].dt.year == 2022]\n",
    "\n",
    "payor_profitability = data_2022.groupby('Payor')['Profitability'].sum()\n",
    "\n",
    "most_profitable_payor = payor_profitability.idxmax()\n",
    "\n",
    "print(\"The most profitable payor for Penda Health in 2022 is:\", most_profitable_payor)\n"
   ]
  },
  {
   "cell_type": "code",
   "execution_count": 29,
   "id": "d44766ba-9512-4e16-b3b3-45d7dd192d12",
   "metadata": {},
   "outputs": [
    {
     "name": "stdout",
     "output_type": "stream",
     "text": [
      "The least profitable medical center in 2022 is: Call Centre\n"
     ]
    }
   ],
   "source": [
    "import pandas as pd\n",
    "\n",
    "data['Profitability'] = data['Amount'] * 0.3\n",
    "\n",
    "# Convert 'VisitDateTime' column to datetime type\n",
    "data['VisitDateTime'] = pd.to_datetime(data['VisitDateTime'])\n",
    "\n",
    "# Filter the data for the year 2022\n",
    "data_2022 = data[data['VisitDateTime'].dt.year == 2022]\n",
    "\n",
    "# Group by MedicalCenter and sum the profitability\n",
    "medical_center_profitability = data_2022.groupby('MedicalCenter')['Profitability'].sum()\n",
    "\n",
    "# Find the least profitable medical center\n",
    "least_profitable_medical_center = medical_center_profitability.idxmin()\n",
    "\n",
    "print(\"The least profitable medical center in 2022 is:\", least_profitable_medical_center)\n"
   ]
  },
  {
   "cell_type": "code",
   "execution_count": 62,
   "id": "36bf5fec-e3bb-4091-a86f-2df1dcd68eb5",
   "metadata": {},
   "outputs": [
    {
     "name": "stdout",
     "output_type": "stream",
     "text": [
      "The average spend per visit for visits with a diagnosis of acute gastritis is: nan\n"
     ]
    }
   ],
   "source": [
    "import pandas as pd\n",
    "\n",
    "# Read the CSV file\n",
    "data = pd.read_csv('BI_Analyst_Assessment_Data_2023.csv')\n",
    "\n",
    "# Convert 'VisitDateTime' column to datetime format\n",
    "data['VisitDateTime'] = pd.to_datetime(data['VisitDateTime'], errors='coerce')\n",
    "\n",
    "# Fill NaN values in 'PatientCode' column with empty string\n",
    "data['PatientCode'] = data['PatientCode'].fillna('')\n",
    "\n",
    "# Filter out invalid dates\n",
    "data = data[data['VisitDateTime'].notnull()]\n",
    "\n",
    "# Find records with diagnosis and amounts in 'PatientCode'\n",
    "diagnosis_mask = data['PatientCode'].str.contains(r'\\b\\w{1}\\d{2}\\b')\n",
    "amount_mask = data['PatientCode'].str.contains(r'\\b\\d{2}\\b')\n",
    "\n",
    "# Create new 'Diagnosis' column\n",
    "data.loc[diagnosis_mask, 'Diagnosis'] = data.loc[diagnosis_mask, 'PatientCode']\n",
    "\n",
    "# Create new 'Amount' column\n",
    "data.loc[amount_mask, 'Amount'] = data.loc[amount_mask, 'PatientCode']\n",
    "\n",
    "# Remove the diagnosis and amount from the 'PatientCode' column\n",
    "data.loc[diagnosis_mask, 'PatientCode'] = ''\n",
    "data.loc[amount_mask, 'PatientCode'] = ''\n",
    "\n",
    "# Filter the data for visits with a diagnosis of acute gastritis\n",
    "acute_gastritis_visits = data[data['Diagnosis'] == 'acute gastritis']\n",
    "\n",
    "# Calculate the average spend per visit\n",
    "average_spend_per_visit = acute_gastritis_visits['Amount'].mean()\n",
    "\n",
    "print(\"The average spend per visit for visits with a diagnosis of acute gastritis is:\", average_spend_per_visit)\n"
   ]
  },
  {
   "cell_type": "code",
   "execution_count": 32,
   "id": "70a9196b-2ced-4cae-90f4-a93269631128",
   "metadata": {},
   "outputs": [
    {
     "name": "stdout",
     "output_type": "stream",
     "text": [
      "The number of unique patients who experienced a blended healthcare approach in 2022 is: 13383\n"
     ]
    }
   ],
   "source": [
    "import pandas as pd\n",
    "\n",
    "# Convert 'VisitDateTime' column to datetime type\n",
    "data['VisitDateTime'] = pd.to_datetime(data['VisitDateTime'])\n",
    "\n",
    "# Filter the data for the year 2022\n",
    "data_2022 = data[data['VisitDateTime'].dt.year == 2022]\n",
    "\n",
    "# Filter the data for both in-person visit and call center visit\n",
    "blended_data_2022 = data_2022[data_2022['VisitCategory'].isin(['In-person Visit', 'Call Center'])]\n",
    "\n",
    "# Count the number of unique patients\n",
    "unique_patients = blended_data_2022['PatientCode'].nunique()\n",
    "\n",
    "print(\"The number of unique patients who experienced a blended healthcare approach in 2022 is:\", unique_patients)\n"
   ]
  },
  {
   "cell_type": "code",
   "execution_count": 40,
   "id": "f731d833-30a0-43d1-b7e3-a7448c6cb865",
   "metadata": {},
   "outputs": [
    {
     "name": "stdout",
     "output_type": "stream",
     "text": [
      "The Net Promoter Score (NPS) in Q3 2022 is: 0.26984335922074504\n"
     ]
    }
   ],
   "source": [
    "import pandas as pd\n",
    "\n",
    "# Convert 'visitDateTime' column to datetime type\n",
    "data['VisitDateTime'] = pd.to_datetime(data['VisitDateTime'])\n",
    "\n",
    "# Filter the data for Q3 2022 (July 1, 2022, to September 30, 2022)\n",
    "q3_2022_data = data[(data['VisitDateTime'].dt.year == 2022) & (data['VisitDateTime'].dt.quarter == 3)]\n",
    "\n",
    "# Calculate the NPS score\n",
    "promoters = q3_2022_data[q3_2022_data['NPS Score'] >= 9].shape[0]\n",
    "detractors = q3_2022_data[q3_2022_data['NPS Score'] <= 6].shape[0]\n",
    "total_responses = q3_2022_data.shape[0]\n",
    "\n",
    "nps = (promoters - detractors) / total_responses * 10\n",
    "\n",
    "print(\"The Net Promoter Score (NPS) in Q3 2022 is:\", nps)\n"
   ]
  },
  {
   "cell_type": "code",
   "execution_count": 45,
   "id": "c04e909f-ab8f-4b0c-88d5-b476fd97d795",
   "metadata": {},
   "outputs": [
    {
     "name": "stdout",
     "output_type": "stream",
     "text": [
      "The sum of individual satisfaction scores in Q3 2023 is: 0.0\n"
     ]
    }
   ],
   "source": [
    "import pandas as pd\n",
    "\n",
    "# Assuming your dataset is stored in a DataFrame called 'data' with a column named 'Satisfaction Score'\n",
    "# Filter the data for Q3 2023 (July 1, 2023, to September 30, 2023)\n",
    "q3_2023_data = data[(data['VisitDateTime'].dt.year == 2023) & (data['VisitDateTime'].dt.quarter == 3)]\n",
    "\n",
    "# Calculate the sum of satisfaction scores in Q3 2023\n",
    "satisfaction_sum = q3_2023_data['NPS Score'].sum()\n",
    "\n",
    "print(\"The sum of individual satisfaction scores in Q3 2023 is:\", satisfaction_sum)\n"
   ]
  },
  {
   "cell_type": "code",
   "execution_count": 46,
   "id": "bf681c90-4405-47f4-ab5d-53067dcd69ff",
   "metadata": {},
   "outputs": [
    {
     "name": "stdout",
     "output_type": "stream",
     "text": [
      "The proportion of second visits in Penda Health in 2022 is: 0.9165589544736464\n"
     ]
    }
   ],
   "source": [
    "import pandas as pd\n",
    "\n",
    "# Assuming your dataset is stored in a DataFrame called 'data' with a column named 'PatientID'\n",
    "# Convert 'PatientID' column to string type to handle any leading zeros\n",
    "data['PatientCode'] = data['PatientCode'].astype(str)\n",
    "\n",
    "# Filter the data for the year 2022\n",
    "year_2022_data = data[data['VisitDateTime'].dt.year == 2022]\n",
    "\n",
    "# Count the number of unique patients in 2022\n",
    "unique_patients_2022 = year_2022_data['PatientCode'].nunique()\n",
    "\n",
    "# Count the number of second visits in 2022\n",
    "second_visits_2022 = year_2022_data['PatientCode'].duplicated(keep=False).sum()\n",
    "\n",
    "# Calculate the proportion of second visits\n",
    "proportion_second_visits = second_visits_2022 / unique_patients_2022\n",
    "\n",
    "print(\"The proportion of second visits in Penda Health in 2022 is:\", proportion_second_visits)\n"
   ]
  },
  {
   "cell_type": "code",
   "execution_count": 47,
   "id": "78578b04-29e5-458b-b412-a88539e3c86c",
   "metadata": {},
   "outputs": [
    {
     "name": "stdout",
     "output_type": "stream",
     "text": [
      "The percentage of visits in April 2022 that happened within 30 days of the preceding visit by the same patient is: 17.023498694516974 %\n"
     ]
    }
   ],
   "source": [
    "import pandas as pd\n",
    "\n",
    "# Assuming your dataset is stored in a DataFrame called 'data' with columns 'PatientID' and 'visitDateTime'\n",
    "# Convert 'visitDateTime' column to datetime type\n",
    "data['VisitDateTime'] = pd.to_datetime(data['VisitDateTime'])\n",
    "\n",
    "# Filter the data for the month of April 2022\n",
    "april_2022_data = data[(data['VisitDateTime'].dt.year == 2022) & (data['VisitDateTime'].dt.month == 4)]\n",
    "\n",
    "# Sort the data by patient ID and visit date/time in ascending order\n",
    "april_2022_data = april_2022_data.sort_values(['PatientCode', 'VisitDateTime'])\n",
    "\n",
    "# Calculate the time difference between consecutive visits for each patient\n",
    "april_2022_data['time_diff'] = april_2022_data.groupby('PatientCode')['VisitDateTime'].diff()\n",
    "\n",
    "# Count the number of visits within 30 days of the preceding visit\n",
    "within_30_days = (april_2022_data['time_diff'] <= pd.Timedelta(days=30)).sum()\n",
    "\n",
    "# Calculate the total number of visits in April 2022\n",
    "total_visits = len(april_2022_data)\n",
    "\n",
    "# Calculate the percentage of visits within 30 days of the preceding visit\n",
    "percentage_within_30_days = (within_30_days / total_visits) * 100\n",
    "\n",
    "print(\"The percentage of visits in April 2022 that happened within 30 days of the preceding visit by the same patient is:\", percentage_within_30_days, \"%\")\n"
   ]
  },
  {
   "cell_type": "code",
   "execution_count": null,
   "id": "a0d5792d-5e17-48cf-aeb7-9324733665c7",
   "metadata": {},
   "outputs": [],
   "source": []
  }
 ],
 "metadata": {
  "kernelspec": {
   "display_name": "Python 3 (ipykernel)",
   "language": "python",
   "name": "python3"
  },
  "language_info": {
   "codemirror_mode": {
    "name": "ipython",
    "version": 3
   },
   "file_extension": ".py",
   "mimetype": "text/x-python",
   "name": "python",
   "nbconvert_exporter": "python",
   "pygments_lexer": "ipython3",
   "version": "3.9.13"
  }
 },
 "nbformat": 4,
 "nbformat_minor": 5
}
